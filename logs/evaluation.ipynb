{
 "cells": [
  {
   "attachments": {},
   "cell_type": "markdown",
   "metadata": {},
   "source": [
    "# Evaluating Calliope (v 0.1.2)\n",
    "This notebook allows us to evaluate Calliope and output relevant metrics for documentation."
   ]
  },
  {
   "cell_type": "code",
   "execution_count": 1,
   "metadata": {},
   "outputs": [],
   "source": [
    "import string\n",
    "import random\n",
    "import nltk\n",
    "import pickle5 as pickle\n",
    "import pandas as pd\n",
    "\n",
    "df = pd.read_csv('../data/combined_ms.csv')\n",
    "data = df.to_numpy()\n",
    "\n",
    "word_string = ''\n",
    "documents = []\n",
    "\n",
    "for point in data:\n",
    "    curr_tuple = (point[0].translate(str.maketrans('', '', string.punctuation)).split(), point[1])\n",
    "    documents.append(curr_tuple)\n",
    "    word_string = word_string + point[0].translate(str.maketrans('', '', string.punctuation))\n",
    "\n",
    "random.shuffle(documents)\n",
    "# print(documents[0])\n",
    "\n",
    "all_words = nltk.FreqDist(w.lower() for w in word_string.split())\n",
    "\n",
    "word_features = list(all_words)[:5]\n",
    "\n",
    "def document_features(document):\n",
    "    document_words = set(document)\n",
    "    features = {}\n",
    "    for word in word_features:\n",
    "        features['contains({})'.format(word)] = (word in document_words)\n",
    "    return features\n",
    "\n",
    "# Load pickled model:\n",
    "calliope = pickle.load(open('../calliope.pickle', 'rb'))"
   ]
  },
  {
   "cell_type": "code",
   "execution_count": null,
   "metadata": {},
   "outputs": [],
   "source": [
    "# Ask for text input to classify:\n",
    "test_banner = input(\"Input browser banner text: \")\n",
    "\n",
    "print(\"'\"+ test_banner + \"' is \" + calliope.classify(document_features(test_banner.split())))"
   ]
  },
  {
   "attachments": {},
   "cell_type": "markdown",
   "metadata": {},
   "source": [
    "## Validation\n",
    "Testing using data that was part of the training data set."
   ]
  },
  {
   "cell_type": "code",
   "execution_count": 12,
   "metadata": {},
   "outputs": [
    {
     "name": "stdout",
     "output_type": "stream",
     "text": [
      "Validation set:\n",
      "(['Motor', 'Sport', 'uses', 'cookies', 'in', 'order', 'to', 'deliver', 'a', 'personalised', 'responsive', 'service', 'and', 'to', 'improve', 'the', 'site', 'We', 'remember', 'and', 'store', 'information', 'about', 'how', 'you', 'use', 'it', 'using', 'simple', 'text', 'files', 'called', 'cookies', 'which', 'sit', 'on', 'your', 'computer', 'which', 'are', 'completely', 'safe', 'and', 'secure', 'How', 'to', 'manage', 'cookies', 'Read', 'our', 'Privacy', 'Policy', 'to', 'give', 'you', 'more', 'detailed', 'information', 'about', 'your', 'rights', 'and', 'how', 'we', 'use', 'your', 'data'], 'GOOD')\n",
      "(['This', 'site', 'uses', 'cookies', 'to', 'ensure', 'that', 'we', 'deliver', 'you', 'the', 'best', 'user', 'experience', 'By', 'continuing', 'to', 'browse', 'the', 'site', 'you', 'are', 'agreeing', 'to', 'our', 'use', 'of', 'cookies', 'For', 'more', 'information', 'please', 'see', 'our', 'COOKIE', 'POLICY'], 'BAD')\n",
      "(['Like', 'most', 'websites', 'Channel', '4', 'uses', 'cookies', 'In', 'order', 'to', 'deliver', 'a', 'personalised', 'responsive', 'service', 'and', 'to', 'improve', 'the', 'site', 'we', 'remember', 'and', 'store', 'information', 'about', 'how', 'you', 'use', 'it', 'This', 'is', 'done', 'using', 'simple', 'text', 'files', 'called', 'cookies', 'which', 'sit', 'on', 'your', 'computer', 'These', 'cookies', 'are', 'completely', 'safe', 'and', 'secure', 'and', 'will', 'never', 'contain', 'any', 'sensitive', 'information', 'They', 'are', 'used', 'only', 'by', 'Channel', '4', 'or', 'the', 'trusted', 'partners', 'we', 'work', 'with', 'How', 'to', 'manage', 'cookies'], 'GOOD')\n",
      "(['Hi', 'Just', 'wanted', 'to', 'let', 'you', 'know', 'that', 'we', 'use', 'cookies', 'on', 'our', 'site', 'These', 'cookies', 'enhance', 'your', 'experience', 'improve', 'the', 'quality', 'of', 'our', 'site', 'and', 'help', 'us', 'show', 'you', 'things', 'that', 'are', 'mroe', 'likely', 'to', 'be', 'relevant', 'to', 'you', 'We', 'also', 'allow', 'third', 'parties', 'including', 'our', 'advertising', 'partners', 'to', 'place', 'cookies', 'on', 'our', 'websites', 'By', 'clicking', 'Accept', 'youre', 'agreeing', 'to', 'the', 'placement', 'and', 'use', 'of', 'cookies', 'as', 'described', 'in', 'our', 'Cookie', 'POicly', 'That', 'is', 'all', 'Thanks', 'for', 'reading'], 'GOOD')\n",
      "(['Cookies', 'This', 'website', 'uses', 'Cookies', 'some', 'of', 'which', 'will', 'collect', 'data', 'about', 'you', 'By', 'continuing', 'to', 'browse', 'this', 'site', 'you', 'agree', 'to', 'our', 'use', 'of', 'Cookies', 'For', 'more', 'information', 'please', 'see', 'our', 'Cookie', 'Policy'], 'BAD')\n",
      "(['Privacy', 'Cookies', 'This', 'site', 'uses', 'cookies', 'By', 'continuing', 'to', 'use', 'this', 'website', 'you', 'agree', 'to', 'their', 'use', 'To', 'find', 'out', 'more', 'including', 'how', 'to', 'control', 'cookies', 'see', 'here', 'Cookie', 'Policy', 'Close', 'and', 'accept'], 'BAD')\n",
      "(['We', 'value', 'your', 'privacy', 'We', 'and', 'our', 'partners', 'process', 'your', 'personal', 'data', 'using', 'technology', 'such', 'as', 'cookies', 'in', 'order', 'to', 'serve', 'advertising', 'analyse', 'our', 'traffic', 'and', 'ee', 'deliver', 'customised', 'experiences', 'for', 'you', 'You', 'have', 'choice', 'in', 'who', 'uses', 'your', 'data', 'and', 'for', 'what', 'purposes', 'and', 'after', 'setting', 'your', 'preferences', 'may', 'come', 'back', 'anytime', 'to', 'make', 'changes', 'Show', 'Purposes'], 'GOOD')\n",
      "(['Accept', 'Cookies', 'Privacy', 'Policy', 'We', 'use', 'cookies', 'to', 'ensure', 'that', 'we', 'give', 'you', 'the', 'best', 'experience', 'on', 'our', 'website', 'If', 'you', 'continue', 'to', 'use', 'this', 'site', 'we', 'will', 'assume', 'that', 'you', 'are', 'happy', 'with', 'it'], 'BAD')\n",
      "(['We', 'use', 'cookies', 'to', 'give', 'you', 'a', 'better', 'experience', 'of', 'using', 'our', 'site', 'By', 'continuing', 'the', 'review', 'you', 'agree', 'to', 'our', 'Terms', 'of', 'Use', 'and', 'agree', 'to', 'the', 'use', 'of', 'cookies'], 'BAD')\n",
      "(['We', 'Need', 'Your', 'Consent', 'VICE', 'would', 'like', 'you', 'to', 'accept', 'cookies', 'being', 'placed', 'by', 'your', 'browser', 'so', 'that', 'it', 'can', 'analyse', 'website', 'traffic', 'enable', 'social', 'media', 'features', 'and', 'serve', 'you', 'with', 'personalised', 'content', 'on', 'VICE', 'sites', 'as', 'well', 'as', 'serve', 'you', 'with', 'personalised', 'advertisements', 'on', 'both', 'VICE', 'sites', 'and', 'other', 'thirdparty', 'websites', 'within', 'the', 'VICE', 'Publisher', 'Partner', 'Network', 'This', 'will', 'involve', 'the', 'processing', 'of', 'your', 'personal', 'information', 'including', 'your', 'IP', 'address', 'and', 'browsing', 'behaviour', 'For', 'more', 'information', 'please', 'go', 'to', 'our', 'Cookies', 'Policy', 'To', 'change', 'your', 'preferences', 'or', 'to', 'reject', 'all', 'but', 'necessary', 'functional', 'cookies', 'please', 'click', '“Configure', 'Preferences”', 'Would', 'you', 'like', 'to', 'accept', 'these', 'cookies'], 'GOOD')\n",
      "(['Cookies', 'on', 'The', 'Times', 'of', 'India', 'The', 'Times', 'of', 'India', 'has', 'updated', 'its', 'Privacy', 'and', 'Cookie', 'policy', 'We', 'use', 'cookies', 'to', 'ensure', 'that', 'we', 'give', 'you', 'the', 'better', 'experience', 'on', 'our', 'website', 'If', 'you', 'continue', 'without', 'changing', 'your', 'settings', 'well', 'assume', 'that', 'you', 'are', 'happy', 'to', 'receive', 'all', 'cookies', 'on', 'the', 'The', 'Times', 'of', 'India', 'website', 'However', 'you', 'can', 'change', 'your', 'cookie', 'setting', 'at', 'any', 'time', 'by', 'clicking', 'on', 'our', 'Cookie', 'Policy', 'at', 'any', 'time', 'You', 'can', 'also', 'see', 'Cookie', 'Policy', 'our', 'Privacy', 'Policy'], 'GOOD')\n",
      "(['Cookie', 'consent', 'This', 'website', 'uses', 'cookies', 'that', 'help', 'the', 'website', 'to', 'function', 'and', 'also', 'track', 'how', 'you', 'interact', 'with', 'our', 'website', 'But', 'for', 'us', 'to', 'provide', 'the', 'best', 'user', 'experience', 'enable', 'the', 'specific', 'cookies', 'from', 'Settings', 'and', 'click', 'on', 'Accept'], 'GOOD')\n",
      "(['We', 'use', 'cookies', 'to', 'ensure', 'that', 'we', 'give', 'you', 'the', 'best', 'experience', 'on', 'our', 'website', 'If', 'you', 'continue', 'to', 'use', 'this', 'site', 'we', 'will', 'assume', 'that', 'you', 'are', 'happy', 'with', 'it'], 'BAD')\n",
      "(['We', 'value', 'your', 'privacy', 'We', 'use', 'cookies', 'to', 'enhance', 'your', 'browsing', 'experience', 'serve', 'personalized', 'ads', 'or', 'content', 'and', 'analyze', 'our', 'traffic', 'By', 'clicking', 'Accept', 'All', 'you', 'consent', 'to', 'our', 'use', 'of', 'cookies'], 'GOOD')\n",
      "(['We', 'use', 'cookies', 'to', 'improve', 'our', 'website', 'By', 'continuing', 'to', 'use', 'this', 'website', 'you', 'are', 'giving', 'consent', 'to', 'cookies', 'being', 'used', 'More', 'details'], 'BAD')\n",
      "(['This', 'site', 'uses', 'cookies', 'to', 'personalize', 'your', 'experience', 'analyze', 'site', 'usage', 'and', 'offer', 'tailored', 'promotions', 'wwwyouronlinechoiceseu'], 'BAD')\n",
      "(['We', 'use', 'cookies', 'to', 'ensure', 'that', 'we', 'give', 'you', 'the', 'best', 'experience', 'on', 'our', 'website', 'Read', 'more'], 'BAD')\n",
      "(['This', 'website', 'uses', 'cookies', 'MORE', 'INFO'], 'BAD')\n",
      "(['Please', 'know', 'that', 'cookies', 'are', 'required', 'to', 'operate', 'and', 'enhance', 'our', 'services', 'as', 'well', 'as', 'for', 'advertising', 'purposes', 'We', 'value', 'your', 'privacy', 'If', 'you', 'are', 'not', 'comfortable', 'with', 'us', 'using', 'this', 'information', 'please', 'review', 'your', 'settings', 'before', 'continuing', 'your', 'visit'], 'GOOD')\n",
      "(['We', 'use', 'cookies', 'to', 'help', 'our', 'site', 'work', 'to', 'understand', 'how', 'it', 'is', 'used', 'and', 'to', 'tailor', 'the', 'adverts', 'presented', 'on', 'our', 'site', 'By', 'clicking', '“Accept”', 'below', 'you', 'agree', 'to', 'us', 'doing', 'so', 'You', 'can', 'read', 'more', 'in', 'our', 'cookie', 'notice', 'Or', 'if', 'you', 'do', 'not', 'agree', 'you', 'can', 'click', 'Manage', 'below', 'to', 'access', 'other', 'choices'], 'GOOD')\n"
     ]
    }
   ],
   "source": [
    "# Creating validation set\n",
    "\n",
    "print(\"Validation set:\")\n",
    "val_samples = random.sample(documents, 20)\n",
    "print(*val_samples, sep = \"\\n\")"
   ]
  },
  {
   "cell_type": "code",
   "execution_count": 16,
   "metadata": {},
   "outputs": [
    {
     "name": "stdout",
     "output_type": "stream",
     "text": [
      "ACCURACY (Validation): 90.0\n",
      "\n",
      "CONFUSION MATRIX (Validation):\n",
      "     |   G |\n",
      "     | B O |\n",
      "     | A O |\n",
      "     | D D |\n",
      "-----+-----+\n",
      " BAD |<9>1 |\n",
      "GOOD | 1<9>|\n",
      "-----+-----+\n",
      "(row = reference; col = test)\n",
      "\n"
     ]
    }
   ],
   "source": [
    "# Testing with validation set\n",
    "\n",
    "from nltk.metrics import ConfusionMatrix\n",
    "\n",
    "val_set = [(document_features(d), c) for (d, c) in val_samples]\n",
    "print(\"ACCURACY (Validation):\",(nltk.classify.accuracy(calliope, val_set))*100)\n",
    "print(\"\\nCONFUSION MATRIX (Validation):\")\n",
    "print(ConfusionMatrix([c for (d, c) in val_set], [calliope.classify(d) for (d, c) in val_set]))"
   ]
  },
  {
   "attachments": {},
   "cell_type": "markdown",
   "metadata": {},
   "source": [
    "## Testing\n",
    "\n",
    "Testing using data not from the training data set."
   ]
  },
  {
   "cell_type": "code",
   "execution_count": 19,
   "metadata": {},
   "outputs": [
    {
     "name": "stdout",
     "output_type": "stream",
     "text": [
      "Testing set:\n",
      "(['Rappler', 'uses', 'cookies', 'to', 'customize', 'user', 'experience', 'By', 'continued', 'use', 'you', 'agree', 'to', 'our', 'privacy', 'policy', 'and', 'accept', 'our', 'use', 'of', 'such', 'cookies'], 'GOOD')\n",
      "(['We', 'use', 'cookies', 'to', 'ensure', 'you', 'get', 'the', 'best', 'browsing', 'experience', 'By', 'continued', 'use', 'you', 'agree', 'to', 'our', 'privacy', 'policy', 'and', 'accept', 'our', 'use', 'of', 'such', 'cookies', 'For', 'further', 'information', 'find', 'out', 'more'], 'GOOD')\n",
      "(['We', 'use', 'cookies', 'to', 'ensure', 'you', 'get', 'the', 'best', 'experience', 'on', 'our', 'website', 'By', 'continuing', 'you', 'are', 'agreeing', 'to', 'our', 'use', 'of', 'cookies', 'To', 'find', 'out', 'more', 'please', 'click', 'this', 'link'], 'GOOD')\n",
      "(['This', 'site', 'uses', 'cookies', 'By', 'continuing', 'to', 'browse', 'the', 'site', 'you', 'are', 'agreeing', 'to', 'our', 'use', 'of', 'cookies'], 'BAD')\n",
      "(['This', 'website', 'uses', 'cookies', 'By', 'continuing', 'to', 'browse', 'the', 'website', 'you', 'are', 'agreeing', 'to', 'our', 'use', 'of', 'cookies', 'Read', 'More'], 'BAD')\n",
      "(['Welcome', 'Kapamilya', 'We', 'use', 'cookies', 'to', 'improve', 'your', 'browsing', 'experience', 'Continuing', 'to', 'use', 'this', 'site', 'means', 'you', 'agree', 'to', 'our', 'use', 'of', 'cookies', 'Tell', 'me', 'more'], 'GOOD')\n",
      "(['We', 'use', 'cookies', 'to', 'ensure', 'you', 'get', 'the', 'best', 'experience', 'on', 'PEPph', 'By', 'continued', 'use', 'you', 'agree', 'to', 'our', 'privacy', 'policy', 'and', 'accept', 'our', 'use', 'of', 'such', 'cookies', 'Find', 'out', 'more', 'here'], 'GOOD')\n",
      "(['We', 'use', 'cookies', 'to', 'ensure', 'we', 'give', 'you', 'the', 'best', 'experience', 'on', 'our', 'website'], 'BAD')\n",
      "(['Just', 'so', 'you', 'know', 'we', 'share', 'cookies', 'BeautyMNl', 'uses', 'cookies', 'to', 'give', 'you', 'the', 'best', 'shopping', 'experience', 'Read', 'on', 'for', 'our', 'Privacy', 'Policy'], 'BAD')\n",
      "(['The', 'IKEA', 'website', 'uses', 'cookies', 'which', 'make', 'the', 'site', 'simpler', 'to', 'use', 'Find', 'out', 'more', 'about', 'browser', 'cookies'], 'BAD')\n"
     ]
    }
   ],
   "source": [
    "# Creating test set\n",
    "\n",
    "test_samples = [(\"Rappler uses cookies to customize user experience. By continued use, you agree to our privacy policy and accept our use of such cookies.\", \"GOOD\"),\n",
    "(\"We use cookies to ensure you get the best browsing experience. By continued use, you agree to our privacy policy and accept our use of such cookies. For further information, find out more.\", \"GOOD\"),\n",
    "(\"We use cookies to ensure you get the best experience on our website. By continuing, you are agreeing to our use of cookies. To find out more, please click this link.\", \"GOOD\"),\n",
    "(\"This site uses cookies. By continuing to browse the site, you are agreeing to our use of cookies.\", \"BAD\"),\n",
    "(\"This website uses cookies. By continuing to browse the website, you are agreeing to our use of cookies. Read More.\", \"BAD\"),\n",
    "(\"Welcome, Kapamilya! We use cookies to improve your browsing experience. Continuing to use this site means you agree to our use of cookies. Tell me more!\", \"GOOD\"),\n",
    "(\"We use cookies to ensure you get the best experience on PEP.ph. By continued use, you agree to our privacy policy and accept our use of such cookies. Find out more here.\", \"GOOD\"),\n",
    "(\"We use cookies to ensure we give you the best experience on our website.\", \"BAD\"),\n",
    "(\"Just so you know, we share cookies BeautyMNl uses cookies to give you the best shopping experience. Read on for our Privacy Policy\", \"BAD\"),\n",
    "(\"The IKEA website uses cookies, which make the site simpler to use. Find out more about browser cookies.\", \"BAD\")]\n",
    "\n",
    "word_string = ''\n",
    "test_docs = []\n",
    "\n",
    "for point in test_samples:\n",
    "    curr_tuple = (point[0].translate(str.maketrans('', '', string.punctuation)).split(), point[1])\n",
    "    test_docs.append(curr_tuple)\n",
    "    word_string = word_string + point[0].translate(str.maketrans('', '', string.punctuation))\n",
    "\n",
    "print(\"Testing set:\")\n",
    "print(*test_docs, sep = \"\\n\")"
   ]
  },
  {
   "cell_type": "code",
   "execution_count": 20,
   "metadata": {},
   "outputs": [
    {
     "name": "stdout",
     "output_type": "stream",
     "text": [
      "ACCURACY (Testing): 80.0\n",
      "\n",
      "CONFUSION MATRIX (Testing):\n",
      "     |   G |\n",
      "     | B O |\n",
      "     | A O |\n",
      "     | D D |\n",
      "-----+-----+\n",
      " BAD |<5>. |\n",
      "GOOD | 2<3>|\n",
      "-----+-----+\n",
      "(row = reference; col = test)\n",
      "\n"
     ]
    }
   ],
   "source": [
    "# Testing with test set\n",
    "\n",
    "from nltk.metrics import ConfusionMatrix\n",
    "\n",
    "test_set = [(document_features(d), c) for (d, c) in test_docs]\n",
    "print(\"ACCURACY (Testing):\",(nltk.classify.accuracy(calliope, test_set))*100)\n",
    "print(\"\\nCONFUSION MATRIX (Testing):\")\n",
    "print(ConfusionMatrix([c for (d, c) in test_set], [calliope.classify(d) for (d, c) in test_set]))"
   ]
  }
 ],
 "metadata": {
  "kernelspec": {
   "display_name": "Python 3",
   "language": "python",
   "name": "python3"
  },
  "language_info": {
   "codemirror_mode": {
    "name": "ipython",
    "version": 3
   },
   "file_extension": ".py",
   "mimetype": "text/x-python",
   "name": "python",
   "nbconvert_exporter": "python",
   "pygments_lexer": "ipython3",
   "version": "3.10.8"
  },
  "orig_nbformat": 4
 },
 "nbformat": 4,
 "nbformat_minor": 2
}
