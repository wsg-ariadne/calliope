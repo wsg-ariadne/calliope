{
 "cells": [
  {
   "attachments": {},
   "cell_type": "markdown",
   "metadata": {},
   "source": [
    "# Evaluating Calliope (v 0.1.2)\n",
    "This notebook allows us to evaluate Calliope and output relevant metrics for documentation."
   ]
  },
  {
   "cell_type": "code",
   "execution_count": 5,
   "metadata": {},
   "outputs": [],
   "source": [
    "import string\n",
    "import random\n",
    "import nltk\n",
    "import pickle5 as pickle\n",
    "import pandas as pd\n",
    "\n",
    "df = pd.read_csv('../data/combined_ms.csv')\n",
    "data = df.to_numpy()\n",
    "\n",
    "word_string = ''\n",
    "documents = []\n",
    "\n",
    "for point in data:\n",
    "    curr_tuple = (point[0].translate(str.maketrans('', '', string.punctuation)).split(), point[1])\n",
    "    documents.append(curr_tuple)\n",
    "    word_string = word_string + point[0].translate(str.maketrans('', '', string.punctuation))\n",
    "\n",
    "random.shuffle(documents)\n",
    "# print(documents[0])\n",
    "\n",
    "all_words = nltk.FreqDist(w.lower() for w in word_string.split())\n",
    "\n",
    "word_features = list(all_words)[:5]\n",
    "\n",
    "def document_features(document):\n",
    "    document_words = set(document)\n",
    "    features = {}\n",
    "    for word in word_features:\n",
    "        features['contains({})'.format(word)] = (word in document_words)\n",
    "    return features\n",
    "\n",
    "# Load pickled model:\n",
    "calliope = pickle.load(open('../calliope.pickle', 'rb'))"
   ]
  },
  {
   "cell_type": "code",
   "execution_count": 6,
   "metadata": {},
   "outputs": [
    {
     "name": "stdout",
     "output_type": "stream",
     "text": [
      "'hello' is BAD\n"
     ]
    }
   ],
   "source": [
    "# Ask for text input to classify:\n",
    "test_banner = input(\"Input browser banner text: \")\n",
    "\n",
    "print(\"'\"+ test_banner + \"' is \" + calliope.classify(document_features(test_banner.split())))"
   ]
  },
  {
   "attachments": {},
   "cell_type": "markdown",
   "metadata": {},
   "source": [
    "## Validation\n",
    "Testing using data that was part of the training data set."
   ]
  },
  {
   "cell_type": "code",
   "execution_count": 26,
   "metadata": {},
   "outputs": [
    {
     "name": "stdout",
     "output_type": "stream",
     "text": [
      "Validation set:\n",
      "(['This', 'site', 'uses', 'cookies', 'Some', 'of', 'these', 'cookies', 'are', 'essential', 'while', 'others', 'help', 'us', 'to', 'improve', 'your', 'experience', 'by', 'providing', 'insights', 'into', 'how', 'the', 'site', 'is', 'being', 'used', 'For', 'more', 'detailed', 'information', 'please', 'read', 'our', 'cookie', 'policy', 'httpstheisleofthanetnewscom', 'cookiepolicy', 'Necessary', 'Cookies', 'Necessary', 'cookies', 'enable', 'core', 'functionality', 'The', 'website', 'cannot', 'function', 'properly', 'without', 'these', 'cookies', 'and', 'can', 'only', 'be', 'disabled', 'by', 'changing', 'your', 'browser', 'preferences', 'Marketing', 'Cookies', 'Off', 'Marketing', 'cookies', 'are', 'used', 'to', 'track', 'visitors', 'across', 'websites', 'The', 'intention', 'is', 'to', 'display', 'ads', 'that', 'are', 'relevant', 'and', 'engaging', 'for', 'the', 'individual', 'user', 'and', 'thereby', 'more', 'valuable', 'for', 'publishers', 'and', 'third', 'part', 'advertisers'], 'GOOD')\n",
      "(['We', 'value', 'your', 'privacy', 'We', 'and', 'our', 'partners', 'process', 'your', 'personal', 'data', 'using', 'technology', 'such', 'as', 'cookies', 'in', 'order', 'to', 'serve', 'advertising', 'analyse', 'our', 'traffic', 'and', 'deliver', 'customised', 'experiences', 'for', 'you', 'You', 'have', 'choice', 'in', 'who', 'uses', 'your', 'data', 'and', 'for', 'what', 'purposes', 'and', 'after', 'setting', 'your', 'preferences', 'may', 'come', 'back', 'anytime', 'to', 'make', 'changes', 'Manage', 'Preferences', 'I', 'See', 'full', 'vendor', 'list', 'I', 'Cookie', 'Policy', 'I', 'Privacy', 'Policy', 'Powered', 'by', 'Quantcast'], 'GOOD')\n",
      "(['We', 'and', 'our', 'partners', 'use', 'cookies', 'on', 'this', 'site', 'to', 'improve', 'our', 'service', 'perform', 'analytics', 'personalize', 'advertising', 'measure', 'advertising', 'performance', 'and', 'remember', 'website', 'preferences', 'By', 'using', 'the', 'site', 'you', 'consent', 'to', 'these', 'cookies', 'For', 'more', 'information', 'on', 'cookies', 'including', 'how', 'to', 'manage', 'your', 'consent', 'visit', 'our', 'cookie', 'policy'], 'GOOD')\n",
      "(['Motor', 'Sport', 'uses', 'cookies', 'in', 'order', 'to', 'deliver', 'a', 'personalised', 'responsive', 'service', 'and', 'to', 'improve', 'the', 'site', 'We', 'remember', 'and', 'store', 'information', 'about', 'how', 'you', 'use', 'it', 'using', 'simple', 'text', 'files', 'called', 'cookies', 'which', 'sit', 'on', 'your', 'computer', 'which', 'are', 'completely', 'safe', 'and', 'secure', 'How', 'to', 'manage', 'cookies', 'Read', 'our', 'Privacy', 'Policy', 'to', 'give', 'you', 'more', 'detailed', 'information', 'about', 'your', 'rights', 'and', 'how', 'we', 'use', 'your', 'data'], 'GOOD')\n",
      "(['Dear', 'User', 'On', 'May', '25', '2018', 'Regulation', 'EU', '2016679', 'of', 'the', 'European', 'Parliament', 'and', 'of', 'the', 'Council', 'of', 'April', '27', '2016', 'General', 'Data', 'Protection', 'Regulation', 'came', 'into', 'force', 'We', 'encourage', 'you', 'to', 'familiarise', 'yourself', 'with', 'information', 'about', 'the', 'processing', 'of', 'personal', 'data', 'on', 'the', 'PolskieRadiop', 'website', '1', 'The', 'Data', 'Administrator', 'is', 'Polish', 'Radio', 'SA', 'based', 'at', '7785', 'Niepodlegtosci', 'Ave', '00977', 'Warsaw', '2', 'On', 'issues', 'regarding', 'your', 'data', 'please', 'contact', 'the', 'Data', 'Protection', 'Officer', 'email', 'iodpolskieradiopl', 'tel', '22', '645', '34', '03', '3', 'Personal', 'data', 'may', 'be', 'processed', 'for', 'marketing', 'purposes', 'based', 'on', 'consent', '4', 'Personal', 'data', 'may', 'be', 'shared', 'solely', 'for', 'the', 'purpose', 'of', 'proper', 'implementation', 'of', 'services', 'defined', 'in', 'the', 'privacy', 'policy', '5', 'Personal', 'data', 'will', 'not', 'be', 'transferred', 'outside', 'the', 'European', 'Economic', 'Area', 'or', 'to', 'an', 'international', 'organisation', '6', 'Personal', 'data', 'will', 'be', 'stored', 'for', '5', 'years', 'after', 'an', 'account', 'is', 'deactivated', 'in', 'accordance', 'with', 'the', 'law', '7', 'You', 'have', 'the', 'right', 'to', 'access', 'your', 'personal', 'data', 'correct', 'it', 'to', 'have', 'it', 'moved', 'or', 'deleted', 'or', 'to', 'limit', 'its', 'processing', '8', 'You', 'have', 'the', 'right', 'to', 'object', 'to', 'further', 'processing', 'and', 'in', 'the', 'case', 'of', 'voicing', 'consent', 'to', 'the', 'processing', 'of', 'personal', 'data', 'you', 'have', 'the', 'right', 'to', 'withdraw', 'your', 'consent', 'The', 'exercise', 'of', 'the', 'right', 'to', 'withdraw', 'consent', 'does', 'not', 'affect', 'any', 'processing', 'that', 'has', 'already', 'taken', 'place', '9', 'You', 'have', 'the', 'right', 'to', 'lodge', 'a', 'complaint', 'with', 'the', 'supervisory', 'authority', '10', 'Polish', 'Radio', 'SA', 'declares', 'that', 'no', 'automated', 'decisions', 'are', 'made', 'when', 'personal', 'data', 'is', 'processed', 'and', 'that', 'profiling', 'is', 'not', 'used', 'For', 'more', 'information', 'on', 'this', 'subject', 'please', 'read', 'our', 'personal', 'data', 'and', 'privacy', 'policy'], 'GOOD')\n",
      "(['We', 'value', 'your', 'privacy', 'We', 'and', 'our', 'partners', 'process', 'your', 'personal', 'data', 'using', 'technology', 'such', 'as', 'cookies', 'in', 'order', 'to', 'serve', 'advertising', 'analyse', 'our', 'traffic', 'and', 'ee', 'deliver', 'customised', 'experiences', 'for', 'you', 'You', 'have', 'choice', 'in', 'who', 'uses', 'your', 'data', 'and', 'for', 'what', 'purposes', 'and', 'after', 'setting', 'your', 'preferences', 'may', 'come', 'back', 'anytime', 'to', 'make', 'changes', 'Show', 'Purposes'], 'GOOD')\n",
      "(['Cookie', 'consent', 'This', 'website', 'uses', 'cookies', 'to', 'improve', 'your', 'experience', 'We', 'will', 'assume', 'you', 'are', 'ok', 'with', 'this', 'but', 'you', 'can', 'optout', 'if', 'you', 'wish', 'View', 'our', 'privacy', 'policy'], 'GOOD')\n",
      "(['We', 'use', 'necessary', 'cookies', 'to', 'make', 'our', 'site', 'work', 'We’d', 'like', 'to', 'set', 'additional', 'cookies', 'to', 'understand', 'site', 'usage', 'make', 'site', 'improvements', 'and', 'to', 'remember', 'your', 'settings', 'We', 'also', 'use', 'cookies', 'set', 'by', 'other', 'sites', 'to', 'help', 'deliver', 'content', 'from', 'their', 'services', 'View', 'our', 'Cookie', 'Notice'], 'GOOD')\n",
      "(['Cookies', 'usage', 'PRISA', 'uses', 'its', 'own', 'and', 'thirdparty', 'cookies', 'to', 'improve', 'its', 'services', 'prepare', 'statistical', 'information', 'and', 'display', 'advertising', 'content', 'or', 'personalized', 'services', 'through', 'the', 'analysis', 'of', 'its', 'navigation', 'To', 'accept', 'their', 'use', 'you', 'can', 'click', 'on', 'Accept', 'or', 'continue', 'browsing', 'Likewise', 'you', 'can', 'configure', 'or', 'reject', 'the', 'use', 'of', 'cookies', 'by', 'clicking', 'on', 'the', 'Settings', 'section', 'To', 'obtain', 'more', 'information', 'about', 'the', 'use', 'of', 'cookies', 'and', 'their', 'rights', 'access', 'our', 'Privacy', 'Policy'], 'GOOD')\n",
      "(['Accept', 'the', 'updated', 'privacy', 'cookie', 'policy', 'Dear', 'user', 'The', 'EconomicTimescom', 'privacy', 'and', 'cookie', 'policy', 'has', 'been', 'updated', 'to', 'align', 'with', 'the', 'new', 'data', 'regulations', 'in', 'European', 'Union', 'Please', 'review', 'and', 'accept', 'these', 'changes', 'below', 'to', 'continue', 'using', 'the', 'website', 'You', 'can', 'see', 'our', 'privacy', 'policy', 'our', 'cookie', 'list', 'below', 'We', 'use', 'cookies', 'to', 'ensure', 'the', 'best', 'experience', 'for', 'you', 'on', 'our', 'website', 'If', 'you', 'choose', 'to', 'ignore', 'this', 'message', 'well', 'assume', 'that', 'you', 'are', 'happy', 'to', 'receive', 'all', 'cookies', 'on', 'Economictimescom', 'NECESSARY', 'Define', 'cookies', 'Name', 'Provider', 'Expiry', 'Type', 'Purpose', 'fpid', 'Times', 'internet', '1', 'Year', 'HTTPS', 'Browser', 'Fingerprinting', 'to', 'uniquely', 'identify', 'client', 'browsers', 'pfuuid', 'Times', 'internet', '1', 'Year', 'HTTPS', 'Used', 'to', 'improve', 'the', 'websites', 'performance', 'by', 'anonymously', 'identify', 'the', 'user', 'optout', 'Times', 'internet', '1', 'Year', 'HTTPS', 'Stores', 'the', 'users', 'cookie', 'consent', 'state', 'for', 'the', 'current', 'domain', 'etupref', 'Times', 'internet', '2', 'Year', 'HTTPS', 'Used', 'to', 'authenticate', 'your', 'identity', 'to', 'ET', 'Ive', 'read', 'accepted', 'the', 'terms', 'and', 'conditions'], 'GOOD')\n",
      "(['Accept', 'Cookies', 'Privacy', 'Policy', 'We', 'use', 'cookies', 'to', 'ensure', 'that', 'we', 'give', 'you', 'the', 'best', 'experience', 'on', 'our', 'website', 'If', 'you', 'continue', 'to', 'use', 'this', 'site', 'we', 'will', 'assume', 'that', 'you', 'are', 'happy', 'with', 'it'], 'BAD')\n",
      "(['By', 'continuing', 'to', 'use', 'the', 'site', 'you', 'agree', 'to', 'the', 'use', 'of', 'cookies', 'More', 'information'], 'BAD')\n",
      "(['By', 'using', 'this', 'site', 'you', 'agree', 'to', 'our', 'Privacy', 'Policy', 'including', 'the', 'use', 'of', 'cookies', 'to', 'enhance', 'your', 'experience'], 'BAD')\n",
      "(['KyivPostcom', 'uses', 'cookies', 'We', 'use', 'cookies', 'to', 'ensure', 'that', 'we', 'give', 'you', 'the', 'best', 'experience', 'on', 'our', 'website', 'We', 'dont', 'share', 'any', 'information', 'about', 'you', 'with', 'third', 'parties', 'and', 'we', 'never', 'will', 'This', 'data', 'stays', 'with', 'the', 'Kyiv', 'Post', 'and', 'helps', 'independent', 'journalism', 'Without', 'cookies', 'you', 'will', 'see', 'a', 'limited', 'version', 'of', 'the', 'website'], 'BAD')\n",
      "(['This', 'website', 'uses', 'cookies', 'to', 'ensure', 'you', 'get', 'the', 'best', 'experience', 'on', 'our', 'website', 'Deactivate', 'website', 'analytics'], 'BAD')\n",
      "(['Thanks', 'for', 'visiting', 'nltimesnl', 'Under', 'the', 'General', 'Data', 'Protection', 'Regulation', 'cookies', 'are', 'considered', 'personal', 'data', 'Cookies', 'are', 'used', 'on', 'this', 'website', 'You', 'can', 'find', 'more', 'information', 'about', 'this', 'in', 'the', 'privacy', 'statement', 'You', 'are', 'hereby', 'requested', 'to', 'accept', 'the', 'use', 'of', 'these', 'cookies', 'Read', 'our', 'privacy', 'policy'], 'BAD')\n",
      "(['This', 'website', 'uses', 'cookies', 'to', 'improve', 'your', 'experience', 'Well', 'assume', 'youre', 'ok', 'with', 'this', 'but', 'you', 'can', 'optout', 'if', 'you', 'wish'], 'BAD')\n",
      "(['We', 'use', 'cookies', 'on', 'this', 'site', 'to', 'enhance', 'your', 'user', 'experience', 'By', 'clicking', 'any', 'link', 'on', 'this', 'page', 'you', 'are', 'giving', 'your', 'consent', 'for', 'us', 'to', 'set', 'cookies'], 'BAD')\n",
      "(['We', 'use', 'cookies', 'to', 'provide', 'you', 'with', 'the', 'best', 'experience', 'in', 'Outdoors', 'programming', 'Click', 'accept', 'to', 'continue', 'or', 'read', 'about', 'our', 'Privacy', 'Policy'], 'BAD')\n",
      "(['By', 'continuing', 'to', 'browse', 'you', 'agree', 'to', 'our', 'Privacy', 'Policy', 'and', 'the', 'use', 'of', 'cookies', 'to', 'provide', 'you', 'with', 'videos', 'and', 'sharing', 'buttons', 'and', 'to', 'allow', 'us', 'to', 'perform', 'analysis', 'to', 'provide', 'you', 'with', 'content', 'consistent', 'with', 'your', 'interests'], 'BAD')\n"
     ]
    }
   ],
   "source": [
    "# Creating validation set\n",
    "print(\"Validation set:\")\n",
    "pos_samples = [(content, label) for (content, label) in documents if label == \"GOOD\"]\n",
    "neg_samples = [(content, label) for (content, label) in documents if label == \"BAD\"]\n",
    "val_samples = random.sample(pos_samples, 10) + random.sample(neg_samples, 10)\n",
    "print(*val_samples, sep = \"\\n\")"
   ]
  },
  {
   "cell_type": "code",
   "execution_count": 42,
   "metadata": {},
   "outputs": [
    {
     "name": "stdout",
     "output_type": "stream",
     "text": [
      "ACCURACY (Validation): 85.0\n",
      "\n",
      "CONFUSION MATRIX (Validation):\n",
      "     |   G |\n",
      "     | B O |\n",
      "     | A O |\n",
      "     | D D |\n",
      "-----+-----+\n",
      " BAD |<8>2 |\n",
      "GOOD | 1<9>|\n",
      "-----+-----+\n",
      "(row = reference; col = test)\n",
      "\n"
     ]
    }
   ],
   "source": [
    "# Testing with validation set\n",
    "\n",
    "from nltk.metrics import ConfusionMatrix\n",
    "from nltk.metrics.scores import(precision, recall, f_measure)\n",
    "\n",
    "val_set = [(document_features(content), label) for (content, label) in val_samples]\n",
    "\n",
    "print(\"ACCURACY (Validation):\",(nltk.classify.accuracy(calliope, val_set))*100)\n",
    "\n",
    "print(\"\\nCONFUSION MATRIX (Validation):\")\n",
    "print(ConfusionMatrix([label for (content, label) in val_set], [calliope.classify(content) for (content, label) in val_set]))"
   ]
  },
  {
   "cell_type": "code",
   "execution_count": 65,
   "metadata": {},
   "outputs": [
    {
     "name": "stdout",
     "output_type": "stream",
     "text": [
      "                                             Document Label Prediction\n",
      "0   [This, site, uses, cookies, Some, of, these, c...  GOOD       GOOD\n",
      "1   [We, value, your, privacy, We, and, our, partn...  GOOD       GOOD\n",
      "2   [We, and, our, partners, use, cookies, on, thi...  GOOD       GOOD\n",
      "3   [Motor, Sport, uses, cookies, in, order, to, d...  GOOD       GOOD\n",
      "4   [Dear, User, On, May, 25, 2018, Regulation, EU...  GOOD       GOOD\n",
      "5   [We, value, your, privacy, We, and, our, partn...  GOOD       GOOD\n",
      "6   [Cookie, consent, This, website, uses, cookies...  GOOD        BAD\n",
      "7   [We, use, necessary, cookies, to, make, our, s...  GOOD       GOOD\n",
      "8   [Cookies, usage, PRISA, uses, its, own, and, t...  GOOD       GOOD\n",
      "9   [Accept, the, updated, privacy, cookie, policy...  GOOD       GOOD\n",
      "10  [Accept, Cookies, Privacy, Policy, We, use, co...   BAD        BAD\n",
      "11  [By, continuing, to, use, the, site, you, agre...   BAD        BAD\n",
      "12  [By, using, this, site, you, agree, to, our, P...   BAD        BAD\n",
      "13  [KyivPostcom, uses, cookies, We, use, cookies,...   BAD       GOOD\n",
      "14  [This, website, uses, cookies, to, ensure, you...   BAD        BAD\n",
      "15  [Thanks, for, visiting, nltimesnl, Under, the,...   BAD        BAD\n",
      "16  [This, website, uses, cookies, to, improve, yo...   BAD        BAD\n",
      "17  [We, use, cookies, on, this, site, to, enhance...   BAD        BAD\n",
      "18  [We, use, cookies, to, provide, you, with, the...   BAD        BAD\n",
      "19  [By, continuing, to, browse, you, agree, to, o...   BAD       GOOD\n"
     ]
    }
   ],
   "source": [
    "import pandas as pd\n",
    "df_val = pd.DataFrame(val_samples)\n",
    "df_val.rename(columns={0: 'Document', 1: 'Label'}, inplace=True)\n",
    "df_val['Prediction'] = [calliope.classify(content) for (content, label) in val_set]\n",
    "\n",
    "print(df_val)\n",
    "df_val.to_csv('validation.csv', index=False)"
   ]
  },
  {
   "attachments": {},
   "cell_type": "markdown",
   "metadata": {},
   "source": [
    "## Testing\n",
    "\n",
    "Testing using data not from the training data set."
   ]
  },
  {
   "cell_type": "code",
   "execution_count": 71,
   "metadata": {},
   "outputs": [
    {
     "name": "stdout",
     "output_type": "stream",
     "text": [
      "Testing set:\n",
      "(['Rappler', 'uses', 'cookies', 'to', 'customize', 'user', 'experience', 'By', 'continued', 'use', 'you', 'agree', 'to', 'our', 'privacy', 'policy', 'and', 'accept', 'our', 'use', 'of', 'such', 'cookies'], 'GOOD')\n",
      "(['We', 'use', 'cookies', 'to', 'ensure', 'you', 'get', 'the', 'best', 'browsing', 'experience', 'By', 'continued', 'use', 'you', 'agree', 'to', 'our', 'privacy', 'policy', 'and', 'accept', 'our', 'use', 'of', 'such', 'cookies', 'For', 'further', 'information', 'find', 'out', 'more'], 'GOOD')\n",
      "(['We', 'use', 'cookies', 'to', 'ensure', 'you', 'get', 'the', 'best', 'experience', 'on', 'our', 'website', 'By', 'continuing', 'you', 'are', 'agreeing', 'to', 'our', 'use', 'of', 'cookies', 'To', 'find', 'out', 'more', 'please', 'click', 'this', 'link'], 'GOOD')\n",
      "(['This', 'site', 'uses', 'cookies', 'By', 'continuing', 'to', 'browse', 'the', 'site', 'you', 'are', 'agreeing', 'to', 'our', 'use', 'of', 'cookies'], 'BAD')\n",
      "(['This', 'website', 'uses', 'cookies', 'By', 'continuing', 'to', 'browse', 'the', 'website', 'you', 'are', 'agreeing', 'to', 'our', 'use', 'of', 'cookies', 'Read', 'More'], 'BAD')\n",
      "(['Welcome', 'Kapamilya', 'We', 'use', 'cookies', 'to', 'improve', 'your', 'browsing', 'experience', 'Continuing', 'to', 'use', 'this', 'site', 'means', 'you', 'agree', 'to', 'our', 'use', 'of', 'cookies', 'Tell', 'me', 'more'], 'GOOD')\n",
      "(['We', 'use', 'cookies', 'to', 'ensure', 'you', 'get', 'the', 'best', 'experience', 'on', 'PEPph', 'By', 'continued', 'use', 'you', 'agree', 'to', 'our', 'privacy', 'policy', 'and', 'accept', 'our', 'use', 'of', 'such', 'cookies', 'Find', 'out', 'more', 'here'], 'GOOD')\n",
      "(['We', 'use', 'cookies', 'to', 'ensure', 'we', 'give', 'you', 'the', 'best', 'experience', 'on', 'our', 'website'], 'BAD')\n",
      "(['Just', 'so', 'you', 'know', 'we', 'share', 'cookies', 'BeautyMNl', 'uses', 'cookies', 'to', 'give', 'you', 'the', 'best', 'shopping', 'experience', 'Read', 'on', 'for', 'our', 'Privacy', 'Policy'], 'BAD')\n",
      "(['The', 'IKEA', 'website', 'uses', 'cookies', 'which', 'make', 'the', 'site', 'simpler', 'to', 'use', 'Find', 'out', 'more', 'about', 'browser', 'cookies'], 'BAD')\n"
     ]
    }
   ],
   "source": [
    "# Creating test set\n",
    "import string\n",
    "\n",
    "test_samples = [(\"Rappler uses cookies to customize user experience. By continued use, you agree to our privacy policy and accept our use of such cookies.\", \"GOOD\"),\n",
    "(\"We use cookies to ensure you get the best browsing experience. By continued use, you agree to our privacy policy and accept our use of such cookies. For further information, find out more.\", \"GOOD\"),\n",
    "(\"We use cookies to ensure you get the best experience on our website. By continuing, you are agreeing to our use of cookies. To find out more, please click this link.\", \"GOOD\"),\n",
    "(\"This site uses cookies. By continuing to browse the site, you are agreeing to our use of cookies.\", \"BAD\"),\n",
    "(\"This website uses cookies. By continuing to browse the website, you are agreeing to our use of cookies. Read More.\", \"BAD\"),\n",
    "(\"Welcome, Kapamilya! We use cookies to improve your browsing experience. Continuing to use this site means you agree to our use of cookies. Tell me more!\", \"GOOD\"),\n",
    "(\"We use cookies to ensure you get the best experience on PEP.ph. By continued use, you agree to our privacy policy and accept our use of such cookies. Find out more here.\", \"GOOD\"),\n",
    "(\"We use cookies to ensure we give you the best experience on our website.\", \"BAD\"),\n",
    "(\"Just so you know, we share cookies BeautyMNl uses cookies to give you the best shopping experience. Read on for our Privacy Policy\", \"BAD\"),\n",
    "(\"The IKEA website uses cookies, which make the site simpler to use. Find out more about browser cookies.\", \"BAD\")]\n",
    "\n",
    "word_string = ''\n",
    "test_docs = []\n",
    "\n",
    "for point in test_samples:\n",
    "    curr_tuple = (point[0].translate(str.maketrans('', '', string.punctuation)).split(), point[1])\n",
    "    test_docs.append(curr_tuple)\n",
    "    word_string = word_string + point[0].translate(str.maketrans('', '', string.punctuation))\n",
    "\n",
    "print(\"Testing set:\")\n",
    "print(*test_docs, sep = \"\\n\")"
   ]
  },
  {
   "cell_type": "code",
   "execution_count": 72,
   "metadata": {},
   "outputs": [
    {
     "name": "stdout",
     "output_type": "stream",
     "text": [
      "ACCURACY (Testing): 80.0\n",
      "\n",
      "CONFUSION MATRIX (Testing):\n",
      "     |   G |\n",
      "     | B O |\n",
      "     | A O |\n",
      "     | D D |\n",
      "-----+-----+\n",
      " BAD |<5>. |\n",
      "GOOD | 2<3>|\n",
      "-----+-----+\n",
      "(row = reference; col = test)\n",
      "\n"
     ]
    }
   ],
   "source": [
    "# Testing with test set\n",
    "\n",
    "from nltk.metrics import ConfusionMatrix\n",
    "\n",
    "test_set = [(document_features(d), c) for (d, c) in test_docs]\n",
    "\n",
    "print(\"ACCURACY (Testing):\",(nltk.classify.accuracy(calliope, test_set))*100)\n",
    "\n",
    "print(\"\\nCONFUSION MATRIX (Testing):\")\n",
    "print(ConfusionMatrix([label for (content, label) in test_set], [calliope.classify(content) for (content, label) in test_set]))"
   ]
  },
  {
   "cell_type": "code",
   "execution_count": 74,
   "metadata": {},
   "outputs": [
    {
     "name": "stdout",
     "output_type": "stream",
     "text": [
      "                                            Document Label Prediction\n",
      "0  Rappler uses cookies to customize user experie...  GOOD       GOOD\n",
      "1  We use cookies to ensure you get the best brow...  GOOD       GOOD\n",
      "2  We use cookies to ensure you get the best expe...  GOOD        BAD\n",
      "3  This site uses cookies. By continuing to brows...   BAD        BAD\n",
      "4  This website uses cookies. By continuing to br...   BAD        BAD\n",
      "5  Welcome, Kapamilya! We use cookies to improve ...  GOOD        BAD\n",
      "6  We use cookies to ensure you get the best expe...  GOOD       GOOD\n",
      "7  We use cookies to ensure we give you the best ...   BAD        BAD\n",
      "8  Just so you know, we share cookies BeautyMNl u...   BAD        BAD\n",
      "9  The IKEA website uses cookies, which make the ...   BAD        BAD\n"
     ]
    }
   ],
   "source": [
    "import pandas as pd\n",
    "df_test = pd.DataFrame(test_samples)\n",
    "df_test.rename(columns={0: 'Document', 1: 'Label'}, inplace=True)\n",
    "df_test['Prediction'] = [calliope.classify(content) for (content, label) in test_set]\n",
    "\n",
    "print(df_test)\n",
    "df_test.to_csv('test.csv', index=False)"
   ]
  }
 ],
 "metadata": {
  "kernelspec": {
   "display_name": "Python 3",
   "language": "python",
   "name": "python3"
  },
  "language_info": {
   "codemirror_mode": {
    "name": "ipython",
    "version": 3
   },
   "file_extension": ".py",
   "mimetype": "text/x-python",
   "name": "python",
   "nbconvert_exporter": "python",
   "pygments_lexer": "ipython3",
   "version": "3.10.8"
  },
  "orig_nbformat": 4
 },
 "nbformat": 4,
 "nbformat_minor": 2
}
